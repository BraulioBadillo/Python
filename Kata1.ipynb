{
 "cells": [
  {
   "cell_type": "code",
   "execution_count": 1,
   "metadata": {},
   "outputs": [
    {
     "name": "stdout",
     "output_type": "stream",
     "text": [
      "Today's date is: 2022-02-06\n"
     ]
    }
   ],
   "source": [
    "#Imprime fecha\n",
    "\n",
    "from datetime import date\n",
    "print (\"Today's date is: \" + str(date.today()))"
   ]
  },
  {
   "cell_type": "code",
   "execution_count": 9,
   "metadata": {},
   "outputs": [
    {
     "name": "stdout",
     "output_type": "stream",
     "text": [
      "10 parsec is 32.6156 lightyears\n"
     ]
    }
   ],
   "source": [
    "# Parsec a años luz\n",
    "\n",
    "parsec = 10\n",
    "\n",
    "lightyears = 3.26156 *parsec\n",
    "\n",
    "print(str(parsec) + \" parsec is \" + str(lightyears) + \" lightyears\")"
   ]
  },
  {
   "cell_type": "code",
   "execution_count": 10,
   "metadata": {},
   "outputs": [
    {
     "name": "stdout",
     "output_type": "stream",
     "text": [
      "10 parsec is 32.6156 lightyears\n"
     ]
    }
   ],
   "source": [
    "# Parsec a años luz con entrada\n",
    "\n",
    "parsec = input(\"Parsec: \")\n",
    "\n",
    "lightyears =  float(3.26156) * float(parsec)\n",
    "\n",
    "print(str(parsec) + \" parsec is \" + str(lightyears) + \" lightyears\")"
   ]
  }
 ],
 "metadata": {
  "interpreter": {
   "hash": "643d389d6e2fe57e289ce41636ba4b6334206b96231b344651312354396f43cf"
  },
  "kernelspec": {
   "display_name": "Python 3.10.2 64-bit",
   "language": "python",
   "name": "python3"
  },
  "language_info": {
   "codemirror_mode": {
    "name": "ipython",
    "version": 3
   },
   "file_extension": ".py",
   "mimetype": "text/x-python",
   "name": "python",
   "nbconvert_exporter": "python",
   "pygments_lexer": "ipython3",
   "version": "3.10.2"
  },
  "orig_nbformat": 4
 },
 "nbformat": 4,
 "nbformat_minor": 2
}
