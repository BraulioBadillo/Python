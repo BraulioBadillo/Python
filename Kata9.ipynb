{
 "cells": [
  {
   "cell_type": "code",
   "execution_count": 7,
   "metadata": {},
   "outputs": [
    {
     "name": "stdout",
     "output_type": "stream",
     "text": [
      "Reporte de gasolina: \n",
      "    Promedio = 70.33333333333333\n",
      "    tanque1: 80% \n",
      "    tanque2: 75%\n",
      "    tanque3: 56%\n"
     ]
    }
   ],
   "source": [
    "def gasolina (tanque1, tanque2, tanque3):\n",
    "    prom = (tanque1 + tanque2 + tanque3) / 3\n",
    "    return f\"\"\"Reporte de gasolina: \n",
    "    Promedio = {prom}\n",
    "    tanque1: {tanque1}% \n",
    "    tanque2: {tanque2}%\n",
    "    tanque3: {tanque3}%\"\"\"\n",
    "\n",
    "print(gasolina(80,75,56))\n"
   ]
  },
  {
   "cell_type": "code",
   "execution_count": 17,
   "metadata": {},
   "outputs": [
    {
     "name": "stdout",
     "output_type": "stream",
     "text": [
      "Reporte de gasolina: \n",
      "    Promedio = 20.0\n",
      "    tanque1: 10% \n",
      "    tanque2: 20%\n",
      "    tanque3: 30%\n"
     ]
    }
   ],
   "source": [
    "def Promedio (valores):\n",
    "    Suma = sum(valores)\n",
    "    Total = len(valores)\n",
    "    return Suma / Total\n",
    "\n",
    "\n",
    "def gasolina (tanque1, tanque2, tanque3):\n",
    "    return f\"\"\"Reporte de gasolina: \n",
    "    Promedio = {Promedio([tanque1, tanque2, tanque3])}\n",
    "    tanque1: {tanque1}% \n",
    "    tanque2: {tanque2}%\n",
    "    tanque3: {tanque3}%\"\"\"\n",
    "\n",
    "\n",
    "print(gasolina(10,20,30)) \n",
    "\n",
    "#código para validar ingreso de datos en funciones\n",
    "\n",
    "#tanque1= input(\"Ingrese la cantidad del tanque 1: \")\n",
    "#tanque2= input(\"Ingrese la cantidad del tanque 2: \")\n",
    "#tanque3= input(\"Ingrese la cantidad del tanque 3: \")\n",
    "\n",
    "#print(gasolina(float(tanque1), float(tanque2), float(tanque3)))   \n",
    "\n"
   ]
  },
  {
   "cell_type": "code",
   "execution_count": 18,
   "metadata": {},
   "outputs": [
    {
     "name": "stdout",
     "output_type": "stream",
     "text": [
      "\n",
      "    Misión a Marte\n",
      "    Tiempo estimado de viaje: 300 minutos\n",
      "    Combustible restante: 110    \n",
      "    \n"
     ]
    }
   ],
   "source": [
    "def informe (Prelanzamiento, Vuelo, Destino, Interno, Externo):\n",
    "    return f\"\"\"\n",
    "    Misión a {Destino}\n",
    "    Tiempo estimado de viaje: {Prelanzamiento + Vuelo} minutos\n",
    "    Combustible restante: {Interno + Externo} galones\n",
    "    \"\"\"\n",
    "\n",
    "print (informe(100, 200, \"Marte\", 50, 60))"
   ]
  },
  {
   "cell_type": "code",
   "execution_count": 20,
   "metadata": {},
   "outputs": [
    {
     "name": "stdout",
     "output_type": "stream",
     "text": [
      "\n",
      "    Misión a Marte\n",
      "    Tiempo estimado de viaje: 210 minutos\n",
      "    Combustible restante: 300 galones\n",
      "    \n"
     ]
    }
   ],
   "source": [
    "def informe (Destino, *minutos, **tanques_adicionales):\n",
    "    return f\"\"\"\n",
    "    Misión a {Destino}\n",
    "    Tiempo estimado de viaje: {sum(minutos)} minutos\n",
    "    Combustible restante: {sum(tanques_adicionales.values())} galones\n",
    "    \"\"\"\n",
    "\n",
    "print (informe(\"Marte\", 50, 60, 100, interno = 100, externo = 200))"
   ]
  },
  {
   "cell_type": "code",
   "execution_count": 30,
   "metadata": {},
   "outputs": [
    {
     "name": "stdout",
     "output_type": "stream",
     "text": [
      "\n",
      "    Misión a Marte\n",
      "    Tiempo estimado de viaje: 340 minutos\n",
      "    Combustible restante: 105000 galones\n",
      "    Tanque interno  con  100000 galones restantes.\n",
      "Tanque externo  con  5000 galones restantes.\n",
      "\n"
     ]
    }
   ],
   "source": [
    "def informe (Destino, *minutos, **tanques_adicionales):\n",
    "    reporte = f\"\"\"\n",
    "    Misión a {Destino}\n",
    "    Tiempo estimado de viaje: {sum(minutos)} minutos\n",
    "    Combustible restante: {sum(tanques_adicionales.values())} galones\n",
    "    \"\"\"\n",
    "    \n",
    "    for Tanque, Galones in tanques_adicionales.items():\n",
    "        reporte += f\"Tanque {Tanque}  con  {Galones} galones restantes.\\n\"\n",
    "    return reporte\n",
    "        \n",
    "print(informe(\"Marte\", 100, 200, 40, interno = 100000, externo = 5000))\n",
    "\n",
    "\n"
   ]
  }
 ],
 "metadata": {
  "interpreter": {
   "hash": "643d389d6e2fe57e289ce41636ba4b6334206b96231b344651312354396f43cf"
  },
  "kernelspec": {
   "display_name": "Python 3.10.2 64-bit",
   "language": "python",
   "name": "python3"
  },
  "language_info": {
   "codemirror_mode": {
    "name": "ipython",
    "version": 3
   },
   "file_extension": ".py",
   "mimetype": "text/x-python",
   "name": "python",
   "nbconvert_exporter": "python",
   "pygments_lexer": "ipython3",
   "version": "3.10.2"
  },
  "orig_nbformat": 4
 },
 "nbformat": 4,
 "nbformat_minor": 2
}
