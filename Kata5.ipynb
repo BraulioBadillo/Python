{
 "cells": [
  {
   "cell_type": "code",
   "execution_count": 7,
   "metadata": {},
   "outputs": [
    {
     "name": "stdout",
     "output_type": "stream",
     "text": [
      "628949330 km\n",
      "390810874 mi\n"
     ]
    }
   ],
   "source": [
    "Dist_Tierra = 149597870 #en km\n",
    "Dist_Jupiter = 778547200 #en km\n",
    "\n",
    "Dist_Total = Dist_Tierra - Dist_Jupiter\n",
    "Conversion = int(Dist_Total * 0.621371)\n",
    "\n",
    "print(abs(Dist_Total), 'km')\n",
    "print(abs(Conversion), 'mi')\n"
   ]
  },
  {
   "cell_type": "code",
   "execution_count": 11,
   "metadata": {},
   "outputs": [
    {
     "name": "stdout",
     "output_type": "stream",
     "text": [
      "La distancia es de 200 km\n",
      "La distancia es de 124 mi\n"
     ]
    }
   ],
   "source": [
    "\n",
    "a = input(\"Ingresa la distancia del Sol al primer planeta: \")\n",
    "b = input(\"Ingresa la distancia del Sol al segundo planeta: \")\n",
    "\n",
    "Dist1 = int(a)\n",
    "Dist2 = int(b)\n",
    "\n",
    "Dist_Planetas = abs(Dist2 - Dist1)\n",
    "Conversion_Millas = int(Dist_Planetas * 0.621371)\n",
    "\n",
    "print('La distancia es de',abs(Dist_Planetas), 'km')\n",
    "print('La distancia es de',abs(Conversion_Millas), 'mi')\n",
    "\n",
    "\n",
    "\n"
   ]
  }
 ],
 "metadata": {
  "interpreter": {
   "hash": "643d389d6e2fe57e289ce41636ba4b6334206b96231b344651312354396f43cf"
  },
  "kernelspec": {
   "display_name": "Python 3.10.2 64-bit",
   "language": "python",
   "name": "python3"
  },
  "language_info": {
   "codemirror_mode": {
    "name": "ipython",
    "version": 3
   },
   "file_extension": ".py",
   "mimetype": "text/x-python",
   "name": "python",
   "nbconvert_exporter": "python",
   "pygments_lexer": "ipython3",
   "version": "3.10.2"
  },
  "orig_nbformat": 4
 },
 "nbformat": 4,
 "nbformat_minor": 2
}
