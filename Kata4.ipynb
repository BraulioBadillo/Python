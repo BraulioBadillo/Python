{
 "cells": [
  {
   "cell_type": "code",
   "execution_count": 55,
   "metadata": {},
   "outputs": [
    {
     "name": "stdout",
     "output_type": "stream",
     "text": [
      "['Interesting facts about the Moon', \"The Moon is Earth's only satellite\", ' There are several interesting facts about the Moon and how it affects life here on Earth', 'On average, the Moon moves 4cm away from the Earth every year', ' This yearly drift is not significant enough to cause immediate effects on Earth', ' The highest daylight temperature of the Moon is 127 C', '']\n",
      "\n",
      "On average, the Moon moves 4cm away from the Earth every year\n",
      "\n",
      "\n",
      " The highest daylight temperature of the Moon is 127 C\n",
      "\n",
      " The highest daylight temperature of the Moon is 127 Celcius\n"
     ]
    }
   ],
   "source": [
    "text = \"\"\"Interesting facts about the Moon.The Moon is Earth's only satellite. There are several interesting facts about the Moon and how it affects life here on Earth.On average, the Moon moves 4cm away from the Earth every year. This yearly drift is not significant enough to cause immediate effects on Earth. The highest daylight temperature of the Moon is 127 C.\"\"\"\n",
    "\n",
    "partes = text.split('.')\n",
    "print (partes)\n",
    "palabras = [\"average\", \"temperature\", \"distance\"] \n",
    "palabras2 = [\"C\"] \n",
    "\n",
    "for cadena in partes:\n",
    "    for clave in palabras:\n",
    "        if clave in cadena:\n",
    "            print(\"\\n\"+ cadena + \"\\n\")\n",
    "            break\n",
    "\n",
    "\n",
    "for cadena in partes:\n",
    "    for clave in palabras2:\n",
    "        if clave in cadena:\n",
    "            print(cadena.replace(\"C\", \"Celcius\"))"
   ]
  },
  {
   "cell_type": "code",
   "execution_count": 67,
   "metadata": {},
   "outputs": [
    {
     "name": "stdout",
     "output_type": "stream",
     "text": [
      "Datos de gravedad sobre Luna y Tierra\n",
      "-------------------------------------------------------------------------------- \n",
      "Nombre del planeta: Tierra \n",
      "Gravedad en Luna: 1.6199999999999999 m/s2 \n",
      "\n",
      "\n",
      "Datos de Gravedad sobre: Ganímedes\n",
      "-------------------------------------------------------------------------------\n",
      "Nombre del planeta: Marte \n",
      "Gravedad en Ganímedes: 1.4300000000000002 m/s2\n",
      "\n"
     ]
    }
   ],
   "source": [
    "Nombre = \"Luna\"\n",
    "Gravedad = 0.00162 # in kms\n",
    "Planeta = \"Tierra\"\n",
    "\n",
    "titulo = f'Datos de gravedad sobre {Nombre} y {Planeta}'\n",
    "print(titulo)\n",
    "\n",
    "hechos = f\"\"\"{'-'*80} \n",
    "Nombre del planeta: {Planeta} \n",
    "Gravedad en {Nombre}: {Gravedad * 1000} m/s2 \n",
    "\"\"\"\n",
    "\n",
    "Formato = f\"\"\"{titulo.title()} \n",
    "{hechos} \n",
    "\"\"\" \n",
    "print(hechos)\n",
    "\n",
    "Planeta = 'Marte '\n",
    "Gravedad  = 0.00143\n",
    "Nombre = 'Ganímedes'\n",
    "\n",
    "\n",
    "Formato2 = \"\"\"\n",
    "Datos de gravedad sobre: {Nombre}\n",
    "-------------------------------------------------------------------------------\n",
    "Nombre del planeta: {Planeta}\n",
    "Gravedad en {Nombre}: {Gravedad} m/s2\n",
    "\"\"\"\n",
    "print(Formato2.format(Nombre=Nombre, Planeta=Planeta, Gravedad=Gravedad*1000))"
   ]
  }
 ],
 "metadata": {
  "interpreter": {
   "hash": "643d389d6e2fe57e289ce41636ba4b6334206b96231b344651312354396f43cf"
  },
  "kernelspec": {
   "display_name": "Python 3.10.2 64-bit",
   "language": "python",
   "name": "python3"
  },
  "language_info": {
   "codemirror_mode": {
    "name": "ipython",
    "version": 3
   },
   "file_extension": ".py",
   "mimetype": "text/x-python",
   "name": "python",
   "nbconvert_exporter": "python",
   "pygments_lexer": "ipython3",
   "version": "3.10.2"
  },
  "orig_nbformat": 4
 },
 "nbformat": 4,
 "nbformat_minor": 2
}
