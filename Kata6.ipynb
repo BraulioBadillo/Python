{
 "cells": [
  {
   "cell_type": "code",
   "execution_count": 1,
   "metadata": {},
   "outputs": [
    {
     "name": "stdout",
     "output_type": "stream",
     "text": [
      "8\n"
     ]
    }
   ],
   "source": [
    "Planetas = ['Mercurio', 'Venus', 'Tierra', 'Marte', 'Jupiter', 'Saturno', 'Urano', 'Neptuno']\n",
    "print(len(Planetas))\n",
    "\n"
   ]
  },
  {
   "cell_type": "code",
   "execution_count": 6,
   "metadata": {},
   "outputs": [
    {
     "name": "stdout",
     "output_type": "stream",
     "text": [
      "Se agregó un nuevo planeta: Plutón\n",
      "Nuevo número de planetas: 9\n"
     ]
    }
   ],
   "source": [
    "Planetas = ['Mercurio', 'Venus', 'Tierra', 'Marte', 'Jupiter', 'Saturno', 'Urano', 'Neptuno']\n",
    "\n",
    "Planetas.append('Plutón')\n",
    "print('Se agregó un nuevo planeta:', Planetas[8])\n",
    "print('Nuevo número de planetas:', len(Planetas))"
   ]
  },
  {
   "cell_type": "code",
   "execution_count": 21,
   "metadata": {},
   "outputs": [
    {
     "name": "stdout",
     "output_type": "stream",
     "text": [
      "6\n",
      "Los siguientes planetas son más cercanos al Sol: ['Mercurio', 'Venus', 'Tierra', 'Marte', 'Jupiter', 'Saturno']\n"
     ]
    }
   ],
   "source": [
    "Planetas = ['Mercurio', 'Venus', 'Tierra', 'Marte', 'Jupiter', 'Saturno', 'Urano', 'Neptuno']\n",
    "Usuario = input('Escriba el nombre de un planeta iniciando con mayúscula: ')\n",
    "\n",
    "Buscar = Planetas.index(Usuario)\n",
    "MasCercanos = Planetas[0:Buscar]\n",
    "\n",
    "print(Buscar)\n",
    "if Usuario == \"Venus\":\n",
    "    print ('El siguiente planeta es más cercano al Sol:', MasCercanos)\n",
    "\n",
    "elif Usuario == \"Mercurio\":\n",
    "    print(\"No hay planetas más cercanos al Sol.\")\n",
    "    \n",
    "else:\n",
    "    print ('Los siguientes planetas son más cercanos al Sol:', MasCercanos)\n",
    "    \n",
    "\n"
   ]
  },
  {
   "cell_type": "code",
   "execution_count": 37,
   "metadata": {},
   "outputs": [
    {
     "name": "stdout",
     "output_type": "stream",
     "text": [
      "6\n",
      "El siguiente planeta está más lejos del Sol: ['Neptuno']\n"
     ]
    }
   ],
   "source": [
    "Planetas = ['Mercurio', 'Venus', 'Tierra', 'Marte', 'Jupiter', 'Saturno', 'Urano', 'Neptuno']\n",
    "Usuario = input('Escriba el nombre de un planeta iniciando con mayúscula: ')\n",
    "\n",
    "Buscar = Planetas.index(Usuario)\n",
    "MasLejanos = Planetas[Buscar+1:]\n",
    "\n",
    "print(Buscar)\n",
    "if Usuario == \"Urano\":\n",
    "    print ('El siguiente planeta está más lejos del Sol:', MasLejanos)\n",
    "\n",
    "elif Usuario == \"Neptuno\":\n",
    "    print(\"No hay planetas más alejados del Sol.\")\n",
    "    \n",
    "else:\n",
    "    print ('Los siguientes planetas están más lejos del Sol:', MasLejanos)"
   ]
  }
 ],
 "metadata": {
  "interpreter": {
   "hash": "643d389d6e2fe57e289ce41636ba4b6334206b96231b344651312354396f43cf"
  },
  "kernelspec": {
   "display_name": "Python 3.10.2 64-bit",
   "language": "python",
   "name": "python3"
  },
  "language_info": {
   "codemirror_mode": {
    "name": "ipython",
    "version": 3
   },
   "file_extension": ".py",
   "mimetype": "text/x-python",
   "name": "python",
   "nbconvert_exporter": "python",
   "pygments_lexer": "ipython3",
   "version": "3.10.2"
  },
  "orig_nbformat": 4
 },
 "nbformat": 4,
 "nbformat_minor": 2
}
