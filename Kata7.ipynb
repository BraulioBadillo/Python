{
 "cells": [
  {
   "cell_type": "code",
   "execution_count": 8,
   "metadata": {},
   "outputs": [
    {
     "name": "stdout",
     "output_type": "stream",
     "text": [
      "Mercurio\n",
      "Venus\n",
      "Tierra\n"
     ]
    }
   ],
   "source": [
    "new_planet = input(\"Introduce un nombre de planeta: \")\n",
    "planets = []\n",
    "\n",
    "while new_planet != 'done':\n",
    "    if new_planet != '':\n",
    "        planets.append(new_planet)\n",
    "        new_planet = input(\"Introduce un nombre de planeta: \")\n",
    "\n",
    "#print(\"Lista de plantetas: \" + str(planets))\n",
    "\n",
    "for planeta in planets:\n",
    "    print(planeta)\n",
    "\n",
    "\n"
   ]
  }
 ],
 "metadata": {
  "interpreter": {
   "hash": "643d389d6e2fe57e289ce41636ba4b6334206b96231b344651312354396f43cf"
  },
  "kernelspec": {
   "display_name": "Python 3.10.2 64-bit",
   "language": "python",
   "name": "python3"
  },
  "language_info": {
   "codemirror_mode": {
    "name": "ipython",
    "version": 3
   },
   "file_extension": ".py",
   "mimetype": "text/x-python",
   "name": "python",
   "nbconvert_exporter": "python",
   "pygments_lexer": "ipython3",
   "version": "3.10.2"
  },
  "orig_nbformat": 4
 },
 "nbformat": 4,
 "nbformat_minor": 2
}
