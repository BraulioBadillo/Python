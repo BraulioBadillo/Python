{
 "cells": [
  {
   "cell_type": "code",
   "execution_count": 2,
   "metadata": {},
   "outputs": [
    {
     "name": "stdout",
     "output_type": "stream",
     "text": [
      "Todo bien\n"
     ]
    }
   ],
   "source": [
    "# Advertencia asteroide\n",
    "Vel = 49\n",
    "if Vel > 25:\n",
    "    print(\"¡Peligro!\")\n",
    "else:\n",
    "    print(\"Todo bien\")"
   ]
  },
  {
   "cell_type": "code",
   "execution_count": 9,
   "metadata": {},
   "outputs": [
    {
     "name": "stdout",
     "output_type": "stream",
     "text": [
      "¡Hay una luz en el cielo!\n"
     ]
    }
   ],
   "source": [
    "# Advertencia asteroide 2\n",
    "Vel = 200\n",
    "if Vel == 20:\n",
    "    print(\"¡Hay una luz en el cielo!\")\n",
    "\n",
    "elif Vel > 20:\n",
    "    print(\"¡Hay una luz en el cielo!\")\n",
    "\n",
    "else:\n",
    "    print(\"Todo bien.\")"
   ]
  },
  {
   "cell_type": "code",
   "execution_count": 109,
   "metadata": {},
   "outputs": [
    {
     "name": "stdout",
     "output_type": "stream",
     "text": [
      "¡Hay una luz en el cielo! El asteoride se desintegrará.\n"
     ]
    }
   ],
   "source": [
    "Tam = 20\n",
    "Vel = 20\n",
    "\n",
    "if Tam < 1000 or Vel < 25:\n",
    "\n",
    "    if Tam > 25 and Vel > 25:\n",
    "        print(\"Posible impacto de mucho peligro. Hay una luz en el cielo.\")\n",
    "\n",
    "    elif Vel >= 20 and Tam < 25:\n",
    "        print (\"¡Hay una luz en el cielo! El asteoride se desintegrará. Todo bien\")\n",
    "\n",
    "    elif  Tam < 25 and Vel < 25:\n",
    "        print(\"Asteroide desintegrado. Todo bien\")\n",
    "\n",
    "    elif Tam > 25:\n",
    "        print (\"Posible impacto de mucho peligro.\")\n",
    "\n",
    "else:\n",
    "        print (\"Posible impacto de destrucción masiva.\")"
   ]
  }
 ],
 "metadata": {
  "interpreter": {
   "hash": "643d389d6e2fe57e289ce41636ba4b6334206b96231b344651312354396f43cf"
  },
  "kernelspec": {
   "display_name": "Python 3.10.2 64-bit",
   "language": "python",
   "name": "python3"
  },
  "language_info": {
   "codemirror_mode": {
    "name": "ipython",
    "version": 3
   },
   "file_extension": ".py",
   "mimetype": "text/x-python",
   "name": "python",
   "nbconvert_exporter": "python",
   "pygments_lexer": "ipython3",
   "version": "3.10.2"
  },
  "orig_nbformat": 4
 },
 "nbformat": 4,
 "nbformat_minor": 2
}
